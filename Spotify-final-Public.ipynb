{
 "cells": [
  {
   "cell_type": "code",
   "execution_count": null,
   "id": "d845738d",
   "metadata": {},
   "outputs": [],
   "source": [
    "#makes a recommendation function based on my listen time to each song and that artist's spotify popularity"
   ]
  },
  {
   "cell_type": "code",
   "execution_count": 6,
   "id": "b07020f0",
   "metadata": {},
   "outputs": [
    {
     "name": "stderr",
     "output_type": "stream",
     "text": [
      "C:\\Users\\Tara\\Anaconda3\\lib\\site-packages\\fuzzywuzzy\\fuzz.py:11: UserWarning: Using slow pure-python SequenceMatcher. Install python-Levenshtein to remove this warning\n",
      "  warnings.warn('Using slow pure-python SequenceMatcher. Install python-Levenshtein to remove this warning')\n"
     ]
    }
   ],
   "source": [
    "#get relevant libraries\n",
    "import json\n",
    "import pandas as pd\n",
    "from datetime import datetime\n",
    "import spotipy\n",
    "from spotipy.oauth2 import SpotifyClientCredentials\n",
    "import os\n",
    "from googlesearch import search  \n",
    "import re\n",
    "import seaborn as sns\n",
    "import math\n",
    "import random\n",
    "import numpy as np\n",
    "from sklearn.neighbors import NearestNeighbors\n",
    "from scipy.sparse import csr_matrix\n",
    "#fuzzy needs to be added to the library\n",
    "#open terminal and paste: conda install -c conda-forge fuzzywuzzy\n",
    "from fuzzywuzzy import process\n",
    "import seaborn as sns\n",
    "import matplotlib.pyplot as plt\n",
    "plt.style.use('ggplot')"
   ]
  },
  {
   "cell_type": "code",
   "execution_count": 7,
   "id": "087bf6e7",
   "metadata": {},
   "outputs": [],
   "source": [
    "#set spotify credentials and generate spotify object\n",
    "os.environ['SPOTIPY_CLIENT_ID']='CLIENT_ID_HERE'\n",
    "os.environ['SPOTIPY_CLIENT_SECRET']='CLIENT_SECRET_Here'\n",
    "spotify = spotipy.Spotify(client_credentials_manager=SpotifyClientCredentials())"
   ]
  },
  {
   "cell_type": "code",
   "execution_count": 95,
   "id": "fc5370dc",
   "metadata": {},
   "outputs": [],
   "source": [
    "#read in streaming data, combine into one df, and get list of all unique artists listened to\n",
    "df=pd.read_json(r'StreamingHistory0.json')\n",
    "df2=pd.read_json(r'StreamingHistory1.json')\n",
    "df=pd.concat([df,df2])\n",
    "df=df.reset_index()\n",
    "df_music=df.loc[(df['artistName']!='Overdue')&(df['artistName']!='Sinisterhood')]\n",
    "df_music_played=df_music.loc[df_music['msPlayed']!=0]\n",
    "artistlist=df_music_played['artistName'].drop_duplicates()\n",
    "artistlist=artistlist.reset_index()['artistName']"
   ]
  },
  {
   "cell_type": "code",
   "execution_count": 96,
   "id": "793884bf",
   "metadata": {},
   "outputs": [],
   "source": [
    "#use total msPlayed for each song as a proxy for rating\n",
    "df_music_ratings=df_music_played.groupby(['artistName','trackName']).agg({'msPlayed':'sum'}).reset_index().sort_values('msPlayed')\n",
    "df_music_ratings['MyRating']=df_music_ratings['msPlayed']*100/max(df_music_ratings['msPlayed'])"
   ]
  },
  {
   "cell_type": "code",
   "execution_count": 59,
   "id": "6fa8c24a",
   "metadata": {
    "scrolled": false
   },
   "outputs": [
    {
     "data": {
      "text/plain": [
       "'spotify:track:4bVuIlGQBMWS7vIhcx8Ae4'"
      ]
     },
     "execution_count": 59,
     "metadata": {},
     "output_type": "execute_result"
    }
   ],
   "source": [
    "#search for track by artist name and song name\n",
    "\n",
    "#spotify.search(str(df_music_ratings['artistName'][0]+' '+df_music_ratings['trackName'][0]),1,0,'track')['tracks']['items'][0]['uri']"
   ]
  },
  {
   "cell_type": "code",
   "execution_count": 82,
   "id": "ba549ce0",
   "metadata": {},
   "outputs": [],
   "source": [
    "music_ratings_artists=df_music_ratings[['artistName']].drop_duplicates()\n",
    "music_ratings_artists['Popularity']=''\n",
    "music_ratings_artists=music_ratings_artists.reset_index()"
   ]
  },
  {
   "cell_type": "code",
   "execution_count": null,
   "id": "ed3c6656",
   "metadata": {},
   "outputs": [],
   "source": [
    "for i in range(len(music_ratings_artists)):\n",
    "    print(i)\n",
    "    music_ratings_artists.loc[i,'Popularity']=spotify.search(music_ratings_artists.loc[i,'artistName'],1,0,'artist')['artists']['items'][0]['popularity']\n",
    "music_ratings_artists.to_csv('MyArtistsWPopularity.csv')"
   ]
  },
  {
   "cell_type": "code",
   "execution_count": 97,
   "id": "5374b3d3",
   "metadata": {
    "scrolled": true
   },
   "outputs": [],
   "source": [
    "df_music_ratings=pd.merge(df_music_ratings,music_ratings_artists,how='left',on='artistName')\n",
    "df_music_ratings['artistName / trackName']=df_music_ratings['artistName']+' / '+df_music_ratings['trackName']\n",
    "df_music_ratings=df_music_ratings[['artistName / trackName','MyRating','Popularity']]"
   ]
  },
  {
   "cell_type": "code",
   "execution_count": 98,
   "id": "64806a9f",
   "metadata": {},
   "outputs": [],
   "source": [
    "df_me=df_music_ratings[['artistName / trackName','MyRating']].rename(columns={'MyRating':'Rating'})\n",
    "df_me['User']='Tara'\n",
    "df_sp=df_music_ratings[['artistName / trackName','Popularity']].rename(columns={'Popularity':'Rating'})\n",
    "df_sp['User']='GP'\n",
    "df_music_ratings=pd.concat([df_me,df_sp])"
   ]
  },
  {
   "cell_type": "code",
   "execution_count": 99,
   "id": "c7af0b61",
   "metadata": {},
   "outputs": [],
   "source": [
    "df_music_backup=df_music_ratings.copy()"
   ]
  },
  {
   "cell_type": "code",
   "execution_count": 100,
   "id": "6014fee3",
   "metadata": {},
   "outputs": [
    {
     "data": {
      "text/plain": [
       "<3457x2 sparse matrix of type '<class 'numpy.float64'>'\n",
       "\twith 6907 stored elements in Compressed Sparse Row format>"
      ]
     },
     "execution_count": 100,
     "metadata": {},
     "output_type": "execute_result"
    }
   ],
   "source": [
    "#Combine datasets into Sparse Matrix\n",
    "df_music_ratings = df_music_ratings.pivot(index = 'artistName / trackName', columns='User',values = 'Rating').fillna(0)\n",
    "matrix_music_users = csr_matrix(df_music_ratings.values)\n",
    "matrix_music_users"
   ]
  },
  {
   "cell_type": "code",
   "execution_count": 103,
   "id": "b6c32fc7",
   "metadata": {},
   "outputs": [
    {
     "data": {
      "text/plain": [
       "NearestNeighbors(algorithm='brute', metric='cosine', n_neighbors=10)"
      ]
     },
     "execution_count": 103,
     "metadata": {},
     "output_type": "execute_result"
    }
   ],
   "source": [
    "model_knn = NearestNeighbors(metric = 'cosine', algorithm = 'brute', n_neighbors = 10)\n",
    "model_knn.fit(matrix_music_users)"
   ]
  },
  {
   "cell_type": "code",
   "execution_count": 162,
   "id": "8aa0a274",
   "metadata": {},
   "outputs": [],
   "source": [
    "#writes the recommender function\n",
    "def recommender(song_name, data, model, n_recommendations):\n",
    "    model.fit(data)\n",
    "    idx = process.extractOne(song_name, df_music_backup['artistName / trackName'])[2]\n",
    "    #print('Song Selected: ', df_music_backup['artistName / trackName'][idx].reset_index()['artistName / trackName'][0], 'Index: ',idx)\n",
    "    print('Song Selected: ', df_music_backup['artistName / trackName'][idx].reset_index()['artistName / trackName'][0])\n",
    "    print('Searching for recommendations.....')\n",
    "    distances, indices = model.kneighbors(data[idx], n_neighbors = n_recommendations)\n",
    "    for i in indices[0]:\n",
    "        if i!=idx:\n",
    "            print(df_music_backup['artistName / trackName'][i].reset_index()['artistName / trackName'][0])"
   ]
  },
  {
   "cell_type": "code",
   "execution_count": 165,
   "id": "29649269",
   "metadata": {
    "scrolled": true
   },
   "outputs": [
    {
     "name": "stdout",
     "output_type": "stream",
     "text": [
      "Song Selected:  Lady Gaga / LoveGame\n",
      "Searching for recommendations.....\n",
      "Halsey / Lie\n",
      "Madge / How to Play\n",
      "Screamin' Jay Hawkins / Sweet Ginny\n",
      "Pitbull / Timber (feat. Ke$ha)\n",
      "Sarah Joy / Rewrite the Stars - Cello Version\n",
      "Julien Baker / Bite The Hand\n",
      "Sharon Van Etten / Like I Used To\n",
      "Bad Suns / Violet\n",
      "BETWEEN FRIENDS / ok\n",
      "The Shins / A Comet Appears\n",
      "Adele / Can I Get It\n",
      "The Wombats / My First Wedding\n",
      "Sipper / Txt\n",
      "ABBA / As Good As New\n",
      "Kesha / We R Who We R\n",
      "George Winston / Early Morning Range\n",
      "WALK THE MOON / Tightrope\n",
      "I DONT KNOW HOW BUT THEY FOUND ME / Absinthe\n",
      "Kanye West / Believe What I Say\n"
     ]
    }
   ],
   "source": [
    "recommender('Lady Gaga / LoveGame',matrix_music_users,model_knn,20)"
   ]
  }
 ],
 "metadata": {
  "kernelspec": {
   "display_name": "Python 3 (ipykernel)",
   "language": "python",
   "name": "python3"
  },
  "language_info": {
   "codemirror_mode": {
    "name": "ipython",
    "version": 3
   },
   "file_extension": ".py",
   "mimetype": "text/x-python",
   "name": "python",
   "nbconvert_exporter": "python",
   "pygments_lexer": "ipython3",
   "version": "3.9.7"
  }
 },
 "nbformat": 4,
 "nbformat_minor": 5
}
